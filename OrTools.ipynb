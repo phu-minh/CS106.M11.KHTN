{
  "nbformat": 4,
  "nbformat_minor": 0,
  "metadata": {
    "colab": {
      "name": "OrTools.ipynb",
      "provenance": [],
      "collapsed_sections": [],
      "authorship_tag": "ABX9TyN0BmEhPcYfAsJ+yu9vNPzw",
      "include_colab_link": true
    },
    "kernelspec": {
      "name": "python3",
      "display_name": "Python 3"
    },
    "language_info": {
      "name": "python"
    }
  },
  "cells": [
    {
      "cell_type": "markdown",
      "metadata": {
        "id": "view-in-github",
        "colab_type": "text"
      },
      "source": [
        "<a href=\"https://colab.research.google.com/github/phu-minh/CS106.M11.KHTN/blob/main/OrTools.ipynb\" target=\"_parent\"><img src=\"https://colab.research.google.com/assets/colab-badge.svg\" alt=\"Open In Colab\"/></a>"
      ]
    },
    {
      "cell_type": "code",
      "metadata": {
        "id": "e8hJqXfVbyO5"
      },
      "source": [
        "!pip3 install ortools"
      ],
      "execution_count": null,
      "outputs": []
    },
    {
      "cell_type": "code",
      "metadata": {
        "id": "_W-wWYoybciD"
      },
      "source": [
        "!git clone https://github.com/likr/kplib"
      ],
      "execution_count": null,
      "outputs": []
    },
    {
      "cell_type": "markdown",
      "metadata": {
        "id": "8xhCDYYSjE21"
      },
      "source": [
        "###Set đường dẫn và các thư mục trong kplib"
      ]
    },
    {
      "cell_type": "code",
      "metadata": {
        "id": "hUA_NHmherjM",
        "colab": {
          "base_uri": "https://localhost:8080/"
        },
        "outputId": "8cf4db64-3ddd-491d-ce4b-54c3afeb23df"
      },
      "source": [
        "import os\n",
        "\n",
        "home = '/content/'\n",
        "path = '/content/kplib'\n",
        "dirs = os.listdir(path)\n",
        "\n",
        "dirs.remove('.git')\n",
        "dirs.remove('README.md')\n",
        "\n",
        "dirs = sorted(dirs)\n",
        "\n",
        "for dir in dirs:\n",
        "    print(dir)"
      ],
      "execution_count": 2,
      "outputs": [
        {
          "output_type": "stream",
          "name": "stdout",
          "text": [
            "00Uncorrelated\n",
            "01WeaklyCorrelated\n",
            "02StronglyCorrelated\n",
            "03InverseStronglyCorrelated\n",
            "04AlmostStronglyCorrelated\n",
            "05SubsetSum\n",
            "06UncorrelatedWithSimilarWeights\n",
            "07SpannerUncorrelated\n",
            "08SpannerWeaklyCorrelated\n",
            "09SpannerStronglyCorrelated\n",
            "10MultipleStronglyCorrelated\n",
            "11ProfitCeiling\n",
            "12Circle\n"
          ]
        }
      ]
    },
    {
      "cell_type": "markdown",
      "metadata": {
        "id": "GIgkKlr2jMZF"
      },
      "source": [
        "###Tạo thư mục, đường dẫn\n"
      ]
    },
    {
      "cell_type": "code",
      "metadata": {
        "id": "-UxtUlhc6uMB"
      },
      "source": [
        "itemsFolder = ['n00050','n00100','n00200','n00500','n01000']\n",
        "sampleFolder = 'R01000'\n",
        "targetFile = 's000.kp'"
      ],
      "execution_count": 5,
      "outputs": []
    },
    {
      "cell_type": "code",
      "metadata": {
        "id": "N6Avyq8xiVvJ"
      },
      "source": [
        "allTestPath = []\n",
        "\n",
        "for dir in dirs:\n",
        "    for itemFold in itemsFolder:\n",
        "        file_path = os.path.join(path,dir,itemFold,sampleFolder,targetFile)\n",
        "        allTestPath.append(file_path)\n",
        "        #print(file_path)\n",
        "\n",
        "#print(allTestPath)"
      ],
      "execution_count": 6,
      "outputs": []
    },
    {
      "cell_type": "code",
      "metadata": {
        "id": "jNF27hEUkB1R"
      },
      "source": [
        "def readData(testPath):\n",
        "      data = []\n",
        "      with open(testPath) as f:\n",
        "          for line in f:\n",
        "              l = line.rstrip()\n",
        "              if (l != ''): \n",
        "                  data.append(l)\n",
        "      return data\n",
        "def convertData (data):\n",
        "    new_data = []\n",
        "    for line in data:\n",
        "        ele = line.split()\n",
        "        new_data.append(ele)\n",
        "    return new_data"
      ],
      "execution_count": 7,
      "outputs": []
    },
    {
      "cell_type": "code",
      "metadata": {
        "id": "ph-piG7lcGi7"
      },
      "source": [
        "def Solver(file_path,data,j):\n",
        "    from ortools.algorithms import pywrapknapsack_solver\n",
        "    import time\n",
        "  \n",
        "    # Create the solver.\n",
        "    solver = pywrapknapsack_solver.KnapsackSolver(\n",
        "        pywrapknapsack_solver.KnapsackSolver.\n",
        "        KNAPSACK_MULTIDIMENSION_BRANCH_AND_BOUND_SOLVER, 'KnapsackExample')\n",
        "    solver.set_time_limit(90)\n",
        "    #Get_data\n",
        "    total_ele = data.pop(0)\n",
        "    total_ele = int(total_ele[0])\n",
        "    #print(total_ele)\n",
        "\n",
        "    capacities = data.pop(0)\n",
        "    capacities = int(capacities[0])\n",
        "    #print(capacities)\n",
        "\n",
        "    values = []\n",
        "    weights = []\n",
        "\n",
        "    for ele in data:\n",
        "        #value = int(ele[0])\n",
        "        values.append(int(ele[0]))\n",
        "        weights.append(int(ele[1]))\n",
        "\n",
        "\n",
        "    weights = [weights]\n",
        "    capacities = [capacities]\n",
        "    \n",
        "    #init solver\n",
        "    solver.Init(values, weights, capacities)\n",
        "    \n",
        "    flag = 1\n",
        "\n",
        "    #solving\n",
        "    start_time = time.time()\n",
        "    computed_value = solver.Solve()\n",
        "    stop_time = time.time()\n",
        "\n",
        "    #check optimal or not\n",
        "    time_total = stop_time - start_time\n",
        "    if time_total > 90:\n",
        "        flag = 0\n",
        "\n",
        "    packed_items = []\n",
        "    packed_weights = []\n",
        "    total_weight = 0\n",
        "    \n",
        "    for i in range(len(values)):\n",
        "        if solver.BestSolutionContains(i):\n",
        "            packed_items.append(i)\n",
        "            packed_weights.append(weights[0][i])\n",
        "            total_weight += weights[0][i]\n",
        "\n",
        "\n",
        "\n",
        "    with open(\"res\" +str(j)+\".txt\", \"w\") as f:\n",
        "        e = \" \\n\"\n",
        "        f.write(file_path + e)\n",
        "        f.write('Total value: ' + str(computed_value) + e)\n",
        "        f.write('Total weight: '+ str(total_weight) + e)\n",
        "        #f.write('Packed items: '+ str(packed_items) + e )\n",
        "        #f.write('Packed_weights: '+ str(packed_weights) + e)\n",
        "        f.write(\"Seconds: \" + \"%s seconds \" %(time_total) + e)\n",
        "        if flag == 1:\n",
        "            f.write(\"Optimal solution\")\n",
        "        else:\n",
        "            f.write(\"Not optimal\")\n",
        "\n",
        "        f.write(\"\\n\")\n",
        "\n",
        "\n",
        "    # print('Total weight:', total_weight)\n",
        "    # print('Packed items:', packed_items)\n",
        "    # print('Packed_weights:', packed_weights)\n",
        "    # print(\"--- %s seconds ---\" % (total_time))\n",
        "    # if flag == 1:\n",
        "    #     print(\"Optimal solution\")\n",
        "    # else:\n",
        "    #     print(\"Not optimal\")\n"
      ],
      "execution_count": 8,
      "outputs": []
    },
    {
      "cell_type": "code",
      "metadata": {
        "colab": {
          "base_uri": "https://localhost:8080/"
        },
        "id": "LsRiR7McTFD3",
        "outputId": "0d69c6aa-831f-4424-bb6f-bbaa94b984ff"
      },
      "source": [
        "print(len(allTestPath))"
      ],
      "execution_count": null,
      "outputs": [
        {
          "output_type": "stream",
          "name": "stdout",
          "text": [
            "65\n"
          ]
        }
      ]
    },
    {
      "cell_type": "markdown",
      "metadata": {
        "id": "JoJGStg4BXdA"
      },
      "source": [
        "###0 - 14"
      ]
    },
    {
      "cell_type": "code",
      "metadata": {
        "id": "NtVvVfMkaa2D",
        "colab": {
          "base_uri": "https://localhost:8080/"
        },
        "outputId": "8f83fd42-e2f3-41fd-a52e-9cff4e4549b5"
      },
      "source": [
        "for i in range(15):\n",
        "    data = readData(allTestPath[i])\n",
        "    data = convertData(data)\n",
        "    Solver(allTestPath[i],data,i)\n",
        "    print(allTestPath[i] + \"  \" + str(i) + \" done !\")"
      ],
      "execution_count": null,
      "outputs": [
        {
          "output_type": "stream",
          "name": "stdout",
          "text": [
            "/content/kplib/00Uncorrelated/n00050/R01000/s000.kp  0 done !\n",
            "/content/kplib/00Uncorrelated/n00100/R01000/s000.kp  1 done !\n",
            "/content/kplib/00Uncorrelated/n00200/R01000/s000.kp  2 done !\n",
            "/content/kplib/00Uncorrelated/n00500/R01000/s000.kp  3 done !\n",
            "/content/kplib/00Uncorrelated/n01000/R01000/s000.kp  4 done !\n",
            "/content/kplib/01WeaklyCorrelated/n00050/R01000/s000.kp  5 done !\n",
            "/content/kplib/01WeaklyCorrelated/n00100/R01000/s000.kp  6 done !\n",
            "/content/kplib/01WeaklyCorrelated/n00200/R01000/s000.kp  7 done !\n",
            "/content/kplib/01WeaklyCorrelated/n00500/R01000/s000.kp  8 done !\n",
            "/content/kplib/01WeaklyCorrelated/n01000/R01000/s000.kp  9 done !\n",
            "/content/kplib/02StronglyCorrelated/n00050/R01000/s000.kp  10 done !\n",
            "/content/kplib/02StronglyCorrelated/n00100/R01000/s000.kp  11 done !\n",
            "/content/kplib/02StronglyCorrelated/n00200/R01000/s000.kp  12 done !\n",
            "/content/kplib/02StronglyCorrelated/n00500/R01000/s000.kp  13 done !\n",
            "/content/kplib/02StronglyCorrelated/n01000/R01000/s000.kp  14 done !\n"
          ]
        }
      ]
    },
    {
      "cell_type": "code",
      "metadata": {
        "id": "BjOBS0369Hux"
      },
      "source": [
        "import shutil\n",
        "\n",
        "\n",
        "temp = []\n",
        "\n",
        "for i in range(15):\n",
        "    temp.append(\"res\" + str(i) + \".txt\")\n",
        "source_dir = '/content'\n",
        "target_dir = '/content/res'\n",
        "\n",
        "try:\n",
        "    os.makedirs(target_dir) # create destination directory, if needed (similar to mkdir -p)\n",
        "except OSError:\n",
        "    pass\n",
        "\n",
        "for file_name in temp:\n",
        "    shutil.move(os.path.join(source_dir, file_name), target_dir)\n",
        "\n",
        "#!zip -r '/content/re.zip' '/content/res'"
      ],
      "execution_count": null,
      "outputs": []
    },
    {
      "cell_type": "markdown",
      "metadata": {
        "id": "l583-EDgBbQ4"
      },
      "source": [
        "###15-18"
      ]
    },
    {
      "cell_type": "code",
      "metadata": {
        "colab": {
          "base_uri": "https://localhost:8080/"
        },
        "id": "qprrpzhVi-2_",
        "outputId": "2f4d7259-cea6-46fc-c983-ccbed8dd50fc"
      },
      "source": [
        "for i in range(15,19):\n",
        "    data = readData(allTestPath[i])\n",
        "    data = convertData(data)\n",
        "    Solver(allTestPath[i],data,i)\n",
        "    print(allTestPath[i] + \"  \" + str(i) + \" done !\")"
      ],
      "execution_count": null,
      "outputs": [
        {
          "output_type": "stream",
          "name": "stdout",
          "text": [
            "/content/kplib/03InverseStronglyCorrelated/n00050/R01000/s000.kp  15 done !\n",
            "/content/kplib/03InverseStronglyCorrelated/n00100/R01000/s000.kp  16 done !\n",
            "/content/kplib/03InverseStronglyCorrelated/n00200/R01000/s000.kp  17 done !\n",
            "/content/kplib/03InverseStronglyCorrelated/n00500/R01000/s000.kp  18 done !\n"
          ]
        }
      ]
    },
    {
      "cell_type": "code",
      "metadata": {
        "id": "fRvzz_Fz9pTN",
        "colab": {
          "base_uri": "https://localhost:8080/"
        },
        "outputId": "9ad47ad8-43bf-455a-8488-8d03f2e300da"
      },
      "source": [
        "import shutil\n",
        "\n",
        "\n",
        "temp = []\n",
        "\n",
        "for i in range(15,19):\n",
        "    temp.append(\"res\" + str(i) + \".txt\")\n",
        "    \n",
        "source_dir = '/content'\n",
        "target_dir = '/content/res'\n",
        "\n",
        "try:\n",
        "    os.makedirs(target_dir) # create destination directory, if needed (similar to mkdir -p)\n",
        "except OSError:\n",
        "    pass\n",
        "\n",
        "for file_name in temp:\n",
        "    shutil.move(os.path.join(source_dir, file_name), target_dir)\n",
        "\n",
        "!zip -r '/content/re.zip' '/content/res'"
      ],
      "execution_count": null,
      "outputs": [
        {
          "output_type": "stream",
          "name": "stdout",
          "text": [
            "  adding: content/res/ (stored 0%)\n",
            "  adding: content/res/res9.txt (deflated 16%)\n",
            "  adding: content/res/res5.txt (deflated 15%)\n",
            "  adding: content/res/res12.txt (deflated 15%)\n",
            "  adding: content/res/res3.txt (deflated 15%)\n",
            "  adding: content/res/res17.txt (deflated 16%)\n",
            "  adding: content/res/res11.txt (deflated 16%)\n",
            "  adding: content/res/res1.txt (deflated 16%)\n",
            "  adding: content/res/res14.txt (deflated 16%)\n",
            "  adding: content/res/res2.txt (deflated 18%)\n",
            "  adding: content/res/res15.txt (deflated 16%)\n",
            "  adding: content/res/res6.txt (deflated 16%)\n",
            "  adding: content/res/res0.txt (deflated 15%)\n",
            "  adding: content/res/res10.txt (deflated 17%)\n",
            "  adding: content/res/res16.txt (deflated 17%)\n",
            "  adding: content/res/res13.txt (deflated 15%)\n",
            "  adding: content/res/res8.txt (deflated 16%)\n",
            "  adding: content/res/res18.txt (deflated 16%)\n",
            "  adding: content/res/res7.txt (deflated 15%)\n",
            "  adding: content/res/res4.txt (deflated 17%)\n"
          ]
        }
      ]
    },
    {
      "cell_type": "markdown",
      "metadata": {
        "id": "Yg58uEs8BdY6"
      },
      "source": [
        "###19 (ram issue)"
      ]
    },
    {
      "cell_type": "code",
      "metadata": {
        "id": "ujg5c1baRRJ2",
        "colab": {
          "base_uri": "https://localhost:8080/"
        },
        "outputId": "c411cb33-cf14-4438-f022-12c7ed0eee39"
      },
      "source": [
        "for i in range(19,20):\n",
        "    data = readData(allTestPath[i])\n",
        "    data = convertData(data)\n",
        "    Solver(allTestPath[i],data,i)\n",
        "    print(allTestPath[i] + \"  \" + str(i) + \" done !\")"
      ],
      "execution_count": null,
      "outputs": [
        {
          "output_type": "stream",
          "name": "stdout",
          "text": [
            "/content/kplib/03InverseStronglyCorrelated/n01000/R01000/s000.kp  19 done !\n"
          ]
        }
      ]
    },
    {
      "cell_type": "code",
      "metadata": {
        "id": "-kOQcUwI9rLN",
        "colab": {
          "base_uri": "https://localhost:8080/"
        },
        "outputId": "85a7f58d-1672-4d79-9627-3f6137f0d343"
      },
      "source": [
        "import shutil\n",
        "\n",
        "\n",
        "temp = []\n",
        "for i in range(19,20):\n",
        "    temp.append(\"res\" + str(i) + \".txt\")\n",
        "source_dir = '/content'\n",
        "target_dir = '/content/res'\n",
        "\n",
        "try:\n",
        "    os.makedirs(target_dir) # create destination directory, if needed (similar to mkdir -p)\n",
        "except OSError:\n",
        "    pass\n",
        "\n",
        "for file_name in temp:\n",
        "    shutil.move(os.path.join(source_dir, file_name), target_dir)\n",
        "\n",
        "!zip -r '/content/re.zip' '/content/res'"
      ],
      "execution_count": null,
      "outputs": [
        {
          "output_type": "stream",
          "name": "stdout",
          "text": [
            "updating: content/res/ (stored 0%)\n",
            "updating: content/res/res9.txt (deflated 16%)\n",
            "updating: content/res/res5.txt (deflated 15%)\n",
            "updating: content/res/res12.txt (deflated 15%)\n",
            "updating: content/res/res3.txt (deflated 15%)\n",
            "updating: content/res/res17.txt (deflated 16%)\n",
            "updating: content/res/res11.txt (deflated 16%)\n",
            "updating: content/res/res1.txt (deflated 16%)\n",
            "updating: content/res/res14.txt (deflated 16%)\n",
            "updating: content/res/res2.txt (deflated 18%)\n",
            "updating: content/res/res15.txt (deflated 16%)\n",
            "updating: content/res/res6.txt (deflated 16%)\n",
            "updating: content/res/res0.txt (deflated 15%)\n",
            "updating: content/res/res10.txt (deflated 17%)\n",
            "updating: content/res/res16.txt (deflated 17%)\n",
            "updating: content/res/res13.txt (deflated 15%)\n",
            "updating: content/res/res8.txt (deflated 16%)\n",
            "updating: content/res/res18.txt (deflated 16%)\n",
            "updating: content/res/res7.txt (deflated 15%)\n",
            "updating: content/res/res4.txt (deflated 17%)\n",
            "  adding: content/res/res19.txt (deflated 16%)\n"
          ]
        }
      ]
    },
    {
      "cell_type": "markdown",
      "metadata": {
        "id": "_Wb74pzjBqas"
      },
      "source": [
        "###20-35"
      ]
    },
    {
      "cell_type": "code",
      "metadata": {
        "id": "xzzJWPL0Bp7R",
        "colab": {
          "base_uri": "https://localhost:8080/"
        },
        "outputId": "093d3e9a-c81d-4fbd-a19e-7e6c88737579"
      },
      "source": [
        "for i in range(20,36):\n",
        "    data = readData(allTestPath[i])\n",
        "    data = convertData(data)\n",
        "    Solver(allTestPath[i],data,i)\n",
        "    print(allTestPath[i] + \"  \" + str(i) + \" done !\")"
      ],
      "execution_count": null,
      "outputs": [
        {
          "output_type": "stream",
          "name": "stdout",
          "text": [
            "/content/kplib/04AlmostStronglyCorrelated/n00050/R01000/s000.kp  20 done !\n",
            "/content/kplib/04AlmostStronglyCorrelated/n00100/R01000/s000.kp  21 done !\n",
            "/content/kplib/04AlmostStronglyCorrelated/n00200/R01000/s000.kp  22 done !\n",
            "/content/kplib/04AlmostStronglyCorrelated/n00500/R01000/s000.kp  23 done !\n",
            "/content/kplib/04AlmostStronglyCorrelated/n01000/R01000/s000.kp  24 done !\n",
            "/content/kplib/05SubsetSum/n00050/R01000/s000.kp  25 done !\n",
            "/content/kplib/05SubsetSum/n00100/R01000/s000.kp  26 done !\n",
            "/content/kplib/05SubsetSum/n00200/R01000/s000.kp  27 done !\n",
            "/content/kplib/05SubsetSum/n00500/R01000/s000.kp  28 done !\n",
            "/content/kplib/05SubsetSum/n01000/R01000/s000.kp  29 done !\n",
            "/content/kplib/06UncorrelatedWithSimilarWeights/n00050/R01000/s000.kp  30 done !\n",
            "/content/kplib/06UncorrelatedWithSimilarWeights/n00100/R01000/s000.kp  31 done !\n",
            "/content/kplib/06UncorrelatedWithSimilarWeights/n00200/R01000/s000.kp  32 done !\n",
            "/content/kplib/06UncorrelatedWithSimilarWeights/n00500/R01000/s000.kp  33 done !\n",
            "/content/kplib/06UncorrelatedWithSimilarWeights/n01000/R01000/s000.kp  34 done !\n",
            "/content/kplib/07SpannerUncorrelated/n00050/R01000/s000.kp  35 done !\n"
          ]
        }
      ]
    },
    {
      "cell_type": "code",
      "metadata": {
        "id": "lbmA3ZZl9vrY"
      },
      "source": [
        "import shutil\n",
        "\n",
        "\n",
        "temp = []\n",
        "\n",
        "for i in range(20,36):\n",
        "    temp.append(\"res\" + str(i) + \".txt\")\n",
        "source_dir = '/content'\n",
        "target_dir = '/content/res'\n",
        "\n",
        "try:\n",
        "    os.makedirs(target_dir) # create destination directory, if needed (similar to mkdir -p)\n",
        "except OSError:\n",
        "    pass\n",
        "\n",
        "for file_name in temp:\n",
        "    shutil.move(os.path.join(source_dir, file_name), target_dir)\n",
        "\n",
        "!zip -r '/content/re.zip' '/content/res'"
      ],
      "execution_count": null,
      "outputs": []
    },
    {
      "cell_type": "markdown",
      "metadata": {
        "id": "HSpb5AIqBxPm"
      },
      "source": [
        "###36 (ram issue)"
      ]
    },
    {
      "cell_type": "code",
      "metadata": {
        "id": "rv-slCy6RDTj",
        "colab": {
          "base_uri": "https://localhost:8080/"
        },
        "outputId": "5b6c3c80-26dc-4f22-8132-1b2c0ebb55fa"
      },
      "source": [
        "print(allTestPath[36])"
      ],
      "execution_count": null,
      "outputs": [
        {
          "metadata": {
            "tags": null
          },
          "name": "stdout",
          "output_type": "stream",
          "text": [
            "/content/kplib/07SpannerUncorrelated/n00100/R01000/s000.kp\n"
          ]
        }
      ]
    },
    {
      "cell_type": "code",
      "metadata": {
        "id": "m3ti0mOMB3gu",
        "colab": {
          "base_uri": "https://localhost:8080/"
        },
        "outputId": "20b359b1-b247-4b77-eb72-8b5749f953da"
      },
      "source": [
        "for i in range(36,37):\n",
        "    data = readData(allTestPath[i])\n",
        "    data = convertData(data)\n",
        "    Solver(allTestPath[i],data,i)\n",
        "    print(allTestPath[i] + \"  \" + str(i) + \" done !\")"
      ],
      "execution_count": 9,
      "outputs": [
        {
          "output_type": "stream",
          "name": "stdout",
          "text": [
            "/content/kplib/07SpannerUncorrelated/n00100/R01000/s000.kp  36 done !\n"
          ]
        }
      ]
    },
    {
      "cell_type": "code",
      "metadata": {
        "id": "mBb0Et-gANY7",
        "colab": {
          "base_uri": "https://localhost:8080/"
        },
        "outputId": "7a6570d4-528c-436e-fcdb-90cbb8a3e605"
      },
      "source": [
        "import shutil\n",
        "\n",
        "\n",
        "temp = []\n",
        "\n",
        "for i in range(36,37):\n",
        "    temp.append(\"res\" + str(i) + \".txt\")\n",
        "source_dir = '/content'\n",
        "target_dir = '/content/res'\n",
        "\n",
        "try:\n",
        "    os.makedirs(target_dir) # create destination directory, if needed (similar to mkdir -p)\n",
        "except OSError:\n",
        "    pass\n",
        "\n",
        "for file_name in temp:\n",
        "    shutil.move(os.path.join(source_dir, file_name), target_dir)\n",
        "\n",
        "!zip -r '/content/re.zip' '/content/res'"
      ],
      "execution_count": 10,
      "outputs": [
        {
          "output_type": "stream",
          "name": "stdout",
          "text": [
            "  adding: content/res/ (stored 0%)\n",
            "  adding: content/res/res36.txt (deflated 17%)\n"
          ]
        }
      ]
    },
    {
      "cell_type": "markdown",
      "metadata": {
        "id": "zxCclWnzHWE3"
      },
      "source": [
        "###37-39"
      ]
    },
    {
      "cell_type": "code",
      "metadata": {
        "id": "miGfU_TDRGSg",
        "colab": {
          "base_uri": "https://localhost:8080/"
        },
        "outputId": "80fe8824-055e-4dc4-955d-d425db406f22"
      },
      "source": [
        "print(allTestPath[37])"
      ],
      "execution_count": null,
      "outputs": [
        {
          "output_type": "stream",
          "name": "stdout",
          "text": [
            "/content/kplib/07SpannerUncorrelated/n00200/R01000/s000.kp\n"
          ]
        }
      ]
    },
    {
      "cell_type": "code",
      "metadata": {
        "id": "SfjAk603HWE4",
        "colab": {
          "base_uri": "https://localhost:8080/"
        },
        "outputId": "61a12e0e-cd07-40df-a054-612695477718"
      },
      "source": [
        "for i in range(37,40):\n",
        "    data = readData(allTestPath[i])\n",
        "    data = convertData(data)\n",
        "    Solver(allTestPath[i],data,i)\n",
        "    print(allTestPath[i] + \"  \" + str(i) + \" done !\")"
      ],
      "execution_count": null,
      "outputs": [
        {
          "output_type": "stream",
          "name": "stdout",
          "text": [
            "/content/kplib/07SpannerUncorrelated/n00200/R01000/s000.kp  37 done !\n",
            "/content/kplib/07SpannerUncorrelated/n00500/R01000/s000.kp  38 done !\n",
            "/content/kplib/07SpannerUncorrelated/n01000/R01000/s000.kp  39 done !\n"
          ]
        }
      ]
    },
    {
      "cell_type": "code",
      "metadata": {
        "id": "_QoLK88THWE4",
        "colab": {
          "base_uri": "https://localhost:8080/"
        },
        "outputId": "3d299977-2220-4bf7-ffe5-c5537f84c379"
      },
      "source": [
        "import shutil\n",
        "\n",
        "\n",
        "temp = []\n",
        "\n",
        "for i in range(37,40):\n",
        "    temp.append(\"res\" + str(i) + \".txt\")\n",
        "source_dir = '/content'\n",
        "target_dir = '/content/res'\n",
        "\n",
        "try:\n",
        "    os.makedirs(target_dir) # create destination directory, if needed (similar to mkdir -p)\n",
        "except OSError:\n",
        "    pass\n",
        "\n",
        "for file_name in temp:\n",
        "    shutil.move(os.path.join(source_dir, file_name), target_dir)\n",
        "\n",
        "!zip -r '/content/re.zip' '/content/res'"
      ],
      "execution_count": null,
      "outputs": [
        {
          "output_type": "stream",
          "name": "stdout",
          "text": [
            "updating: content/res/ (stored 0%)\n",
            "updating: content/res/res9.txt (deflated 16%)\n",
            "updating: content/res/res5.txt (deflated 15%)\n",
            "updating: content/res/res12.txt (deflated 15%)\n",
            "updating: content/res/res3.txt (deflated 15%)\n",
            "updating: content/res/res17.txt (deflated 16%)\n",
            "updating: content/res/res11.txt (deflated 16%)\n",
            "updating: content/res/res1.txt (deflated 16%)\n",
            "updating: content/res/res14.txt (deflated 16%)\n",
            "updating: content/res/res2.txt (deflated 18%)\n",
            "updating: content/res/res15.txt (deflated 16%)\n",
            "updating: content/res/res6.txt (deflated 16%)\n",
            "updating: content/res/res0.txt (deflated 15%)\n",
            "updating: content/res/res10.txt (deflated 17%)\n",
            "updating: content/res/res16.txt (deflated 17%)\n",
            "updating: content/res/res13.txt (deflated 15%)\n",
            "updating: content/res/res8.txt (deflated 16%)\n",
            "updating: content/res/res18.txt (deflated 16%)\n",
            "updating: content/res/res7.txt (deflated 15%)\n",
            "updating: content/res/res4.txt (deflated 17%)\n",
            "updating: content/res/res19.txt (deflated 16%)\n",
            "updating: content/res/res31.txt (deflated 18%)\n",
            "updating: content/res/res34.txt (deflated 19%)\n",
            "updating: content/res/res28.txt (deflated 19%)\n",
            "updating: content/res/res30.txt (deflated 18%)\n",
            "updating: content/res/res22.txt (deflated 14%)\n",
            "updating: content/res/res20.txt (deflated 16%)\n",
            "updating: content/res/res35.txt (deflated 16%)\n",
            "updating: content/res/res24.txt (deflated 16%)\n",
            "updating: content/res/res23.txt (deflated 16%)\n",
            "updating: content/res/res26.txt (deflated 19%)\n",
            "updating: content/res/res25.txt (deflated 19%)\n",
            "updating: content/res/res33.txt (deflated 18%)\n",
            "updating: content/res/res21.txt (deflated 16%)\n",
            "updating: content/res/res29.txt (deflated 21%)\n",
            "updating: content/res/res27.txt (deflated 19%)\n",
            "updating: content/res/res32.txt (deflated 20%)\n",
            "  adding: content/res/res37.txt (deflated 15%)\n",
            "  adding: content/res/res39.txt (deflated 17%)\n",
            "  adding: content/res/res38.txt (deflated 15%)\n"
          ]
        }
      ]
    },
    {
      "cell_type": "markdown",
      "metadata": {
        "id": "nTuJqS7KB5iP"
      },
      "source": [
        "###40-50"
      ]
    },
    {
      "cell_type": "code",
      "metadata": {
        "id": "pQj70U3Ihy4v",
        "colab": {
          "base_uri": "https://localhost:8080/"
        },
        "outputId": "26667438-4906-41c3-9470-997774e1a627"
      },
      "source": [
        "for i in range(40,50):\n",
        "    data = readData(allTestPath[i])\n",
        "    data = convertData(data)\n",
        "    Solver(allTestPath[i],data,i)\n",
        "    print(allTestPath[i] + \"  \" + str(i) + \" done !\")"
      ],
      "execution_count": null,
      "outputs": [
        {
          "output_type": "stream",
          "name": "stdout",
          "text": [
            "/content/kplib/08SpannerWeaklyCorrelated/n00050/R01000/s000.kp  40 done !\n",
            "/content/kplib/08SpannerWeaklyCorrelated/n00100/R01000/s000.kp  41 done !\n",
            "/content/kplib/08SpannerWeaklyCorrelated/n00200/R01000/s000.kp  42 done !\n",
            "/content/kplib/08SpannerWeaklyCorrelated/n00500/R01000/s000.kp  43 done !\n",
            "/content/kplib/08SpannerWeaklyCorrelated/n01000/R01000/s000.kp  44 done !\n",
            "/content/kplib/09SpannerStronglyCorrelated/n00050/R01000/s000.kp  45 done !\n",
            "/content/kplib/09SpannerStronglyCorrelated/n00100/R01000/s000.kp  46 done !\n",
            "/content/kplib/09SpannerStronglyCorrelated/n00200/R01000/s000.kp  47 done !\n",
            "/content/kplib/09SpannerStronglyCorrelated/n00500/R01000/s000.kp  48 done !\n",
            "/content/kplib/09SpannerStronglyCorrelated/n01000/R01000/s000.kp  49 done !\n"
          ]
        }
      ]
    },
    {
      "cell_type": "code",
      "metadata": {
        "id": "Foo4FDMk9xkb",
        "colab": {
          "base_uri": "https://localhost:8080/"
        },
        "outputId": "7c5a0660-3181-4de1-bcd7-682a9fb8e625"
      },
      "source": [
        "import shutil\n",
        "\n",
        "\n",
        "temp = []\n",
        "\n",
        "for i in range(40,50):\n",
        "    temp.append(\"res\" + str(i) + \".txt\")\n",
        "source_dir = '/content'\n",
        "target_dir = '/content/res'\n",
        "\n",
        "try:\n",
        "    os.makedirs(target_dir) # create destination directory, if needed (similar to mkdir -p)\n",
        "except OSError:\n",
        "    pass\n",
        "\n",
        "for file_name in temp:\n",
        "    shutil.move(os.path.join(source_dir, file_name), target_dir)\n",
        "\n",
        "!zip -r '/content/re.zip' '/content/res'"
      ],
      "execution_count": null,
      "outputs": [
        {
          "output_type": "stream",
          "name": "stdout",
          "text": [
            "updating: content/res/ (stored 0%)\n",
            "updating: content/res/res9.txt (deflated 16%)\n",
            "updating: content/res/res5.txt (deflated 15%)\n",
            "updating: content/res/res12.txt (deflated 15%)\n",
            "updating: content/res/res3.txt (deflated 15%)\n",
            "updating: content/res/res17.txt (deflated 16%)\n",
            "updating: content/res/res11.txt (deflated 16%)\n",
            "updating: content/res/res1.txt (deflated 16%)\n",
            "updating: content/res/res14.txt (deflated 16%)\n",
            "updating: content/res/res2.txt (deflated 18%)\n",
            "updating: content/res/res15.txt (deflated 16%)\n",
            "updating: content/res/res6.txt (deflated 16%)\n",
            "updating: content/res/res0.txt (deflated 15%)\n",
            "updating: content/res/res10.txt (deflated 17%)\n",
            "updating: content/res/res16.txt (deflated 17%)\n",
            "updating: content/res/res13.txt (deflated 15%)\n",
            "updating: content/res/res8.txt (deflated 16%)\n",
            "updating: content/res/res18.txt (deflated 16%)\n",
            "updating: content/res/res7.txt (deflated 15%)\n",
            "updating: content/res/res4.txt (deflated 17%)\n",
            "updating: content/res/res19.txt (deflated 16%)\n",
            "updating: content/res/res31.txt (deflated 18%)\n",
            "updating: content/res/res34.txt (deflated 19%)\n",
            "updating: content/res/res28.txt (deflated 19%)\n",
            "updating: content/res/res30.txt (deflated 18%)\n",
            "updating: content/res/res22.txt (deflated 14%)\n",
            "updating: content/res/res20.txt (deflated 16%)\n",
            "updating: content/res/res35.txt (deflated 16%)\n",
            "updating: content/res/res24.txt (deflated 16%)\n",
            "updating: content/res/res23.txt (deflated 16%)\n",
            "updating: content/res/res26.txt (deflated 19%)\n",
            "updating: content/res/res25.txt (deflated 19%)\n",
            "updating: content/res/res33.txt (deflated 18%)\n",
            "updating: content/res/res21.txt (deflated 16%)\n",
            "updating: content/res/res29.txt (deflated 21%)\n",
            "updating: content/res/res27.txt (deflated 19%)\n",
            "updating: content/res/res32.txt (deflated 20%)\n",
            "updating: content/res/res37.txt (deflated 15%)\n",
            "updating: content/res/res39.txt (deflated 17%)\n",
            "updating: content/res/res38.txt (deflated 15%)\n",
            "  adding: content/res/res42.txt (deflated 16%)\n",
            "  adding: content/res/res40.txt (deflated 16%)\n",
            "  adding: content/res/res48.txt (deflated 17%)\n",
            "  adding: content/res/res43.txt (deflated 15%)\n",
            "  adding: content/res/res49.txt (deflated 18%)\n",
            "  adding: content/res/res44.txt (deflated 17%)\n",
            "  adding: content/res/res46.txt (deflated 17%)\n",
            "  adding: content/res/res41.txt (deflated 17%)\n",
            "  adding: content/res/res47.txt (deflated 17%)\n",
            "  adding: content/res/res45.txt (deflated 17%)\n"
          ]
        }
      ]
    },
    {
      "cell_type": "markdown",
      "metadata": {
        "id": "OOl7SOVGB7Vx"
      },
      "source": [
        "###50-60"
      ]
    },
    {
      "cell_type": "code",
      "metadata": {
        "id": "goeqrY3mjExK",
        "colab": {
          "base_uri": "https://localhost:8080/"
        },
        "outputId": "f7e0333e-d894-414e-8d9e-1932df4a75b4"
      },
      "source": [
        "for i in range(50,60):\n",
        "    data = readData(allTestPath[i])\n",
        "    data = convertData(data)\n",
        "    Solver(allTestPath[i],data,i)\n",
        "    print(allTestPath[i] + \"  \" + str(i) + \" done !\")"
      ],
      "execution_count": null,
      "outputs": [
        {
          "output_type": "stream",
          "name": "stdout",
          "text": [
            "/content/kplib/10MultipleStronglyCorrelated/n00050/R01000/s000.kp  50 done !\n",
            "/content/kplib/10MultipleStronglyCorrelated/n00100/R01000/s000.kp  51 done !\n",
            "/content/kplib/10MultipleStronglyCorrelated/n00200/R01000/s000.kp  52 done !\n",
            "/content/kplib/10MultipleStronglyCorrelated/n00500/R01000/s000.kp  53 done !\n",
            "/content/kplib/10MultipleStronglyCorrelated/n01000/R01000/s000.kp  54 done !\n",
            "/content/kplib/11ProfitCeiling/n00050/R01000/s000.kp  55 done !\n",
            "/content/kplib/11ProfitCeiling/n00100/R01000/s000.kp  56 done !\n",
            "/content/kplib/11ProfitCeiling/n00200/R01000/s000.kp  57 done !\n",
            "/content/kplib/11ProfitCeiling/n00500/R01000/s000.kp  58 done !\n",
            "/content/kplib/11ProfitCeiling/n01000/R01000/s000.kp  59 done !\n"
          ]
        }
      ]
    },
    {
      "cell_type": "code",
      "metadata": {
        "id": "K0O3x5ji91N1",
        "colab": {
          "base_uri": "https://localhost:8080/"
        },
        "outputId": "efecfc57-a2b3-46da-9095-3d2fff2f5067"
      },
      "source": [
        "import shutil\n",
        "\n",
        "\n",
        "temp = []\n",
        "\n",
        "for i in range(50,60):\n",
        "    temp.append(\"res\" + str(i) + \".txt\")\n",
        "source_dir = '/content'\n",
        "target_dir = '/content/res'\n",
        "\n",
        "try:\n",
        "    os.makedirs(target_dir) # create destination directory, if needed (similar to mkdir -p)\n",
        "except OSError:\n",
        "    pass\n",
        "\n",
        "for file_name in temp:\n",
        "    shutil.move(os.path.join(source_dir, file_name), target_dir)\n",
        "\n",
        "!zip -r '/content/re.zip' '/content/res'"
      ],
      "execution_count": null,
      "outputs": [
        {
          "output_type": "stream",
          "name": "stdout",
          "text": [
            "updating: content/res/ (stored 0%)\n",
            "updating: content/res/res9.txt (deflated 16%)\n",
            "updating: content/res/res5.txt (deflated 15%)\n",
            "updating: content/res/res12.txt (deflated 15%)\n",
            "updating: content/res/res3.txt (deflated 15%)\n",
            "updating: content/res/res17.txt (deflated 16%)\n",
            "updating: content/res/res11.txt (deflated 16%)\n",
            "updating: content/res/res1.txt (deflated 16%)\n",
            "updating: content/res/res14.txt (deflated 16%)\n",
            "updating: content/res/res2.txt (deflated 18%)\n",
            "updating: content/res/res15.txt (deflated 16%)\n",
            "updating: content/res/res6.txt (deflated 16%)\n",
            "updating: content/res/res0.txt (deflated 15%)\n",
            "updating: content/res/res10.txt (deflated 17%)\n",
            "updating: content/res/res16.txt (deflated 17%)\n",
            "updating: content/res/res13.txt (deflated 15%)\n",
            "updating: content/res/res8.txt (deflated 16%)\n",
            "updating: content/res/res18.txt (deflated 16%)\n",
            "updating: content/res/res7.txt (deflated 15%)\n",
            "updating: content/res/res4.txt (deflated 17%)\n",
            "updating: content/res/res19.txt (deflated 16%)\n",
            "updating: content/res/res31.txt (deflated 18%)\n",
            "updating: content/res/res34.txt (deflated 19%)\n",
            "updating: content/res/res28.txt (deflated 19%)\n",
            "updating: content/res/res30.txt (deflated 18%)\n",
            "updating: content/res/res22.txt (deflated 14%)\n",
            "updating: content/res/res20.txt (deflated 16%)\n",
            "updating: content/res/res35.txt (deflated 16%)\n",
            "updating: content/res/res24.txt (deflated 16%)\n",
            "updating: content/res/res23.txt (deflated 16%)\n",
            "updating: content/res/res26.txt (deflated 19%)\n",
            "updating: content/res/res25.txt (deflated 19%)\n",
            "updating: content/res/res33.txt (deflated 18%)\n",
            "updating: content/res/res21.txt (deflated 16%)\n",
            "updating: content/res/res29.txt (deflated 21%)\n",
            "updating: content/res/res27.txt (deflated 19%)\n",
            "updating: content/res/res32.txt (deflated 20%)\n",
            "updating: content/res/res37.txt (deflated 15%)\n",
            "updating: content/res/res39.txt (deflated 17%)\n",
            "updating: content/res/res38.txt (deflated 15%)\n",
            "updating: content/res/res42.txt (deflated 16%)\n",
            "updating: content/res/res40.txt (deflated 16%)\n",
            "updating: content/res/res48.txt (deflated 17%)\n",
            "updating: content/res/res43.txt (deflated 15%)\n",
            "updating: content/res/res49.txt (deflated 18%)\n",
            "updating: content/res/res44.txt (deflated 17%)\n",
            "updating: content/res/res46.txt (deflated 17%)\n",
            "updating: content/res/res41.txt (deflated 17%)\n",
            "updating: content/res/res47.txt (deflated 17%)\n",
            "updating: content/res/res45.txt (deflated 17%)\n",
            "  adding: content/res/res58.txt (deflated 16%)\n",
            "  adding: content/res/res54.txt (deflated 18%)\n",
            "  adding: content/res/res55.txt (deflated 17%)\n",
            "  adding: content/res/res56.txt (deflated 17%)\n",
            "  adding: content/res/res53.txt (deflated 16%)\n",
            "  adding: content/res/res59.txt (deflated 17%)\n",
            "  adding: content/res/res57.txt (deflated 15%)\n",
            "  adding: content/res/res50.txt (deflated 16%)\n",
            "  adding: content/res/res52.txt (deflated 17%)\n",
            "  adding: content/res/res51.txt (deflated 17%)\n"
          ]
        }
      ]
    },
    {
      "cell_type": "markdown",
      "metadata": {
        "id": "5e6UkH7LB8YX"
      },
      "source": [
        "###60-65"
      ]
    },
    {
      "cell_type": "code",
      "metadata": {
        "id": "knFWmsLfKrNQ",
        "colab": {
          "base_uri": "https://localhost:8080/"
        },
        "outputId": "ab997ab7-03ff-4469-83bb-b593958762ba"
      },
      "source": [
        "  for i in range(60,65):\n",
        "    data = readData(allTestPath[i])\n",
        "    data = convertData(data)\n",
        "    Solver(allTestPath[i],data,i)\n",
        "    print(allTestPath[i] + \"  \" + str(i) + \" done !\")"
      ],
      "execution_count": null,
      "outputs": [
        {
          "output_type": "stream",
          "name": "stdout",
          "text": [
            "/content/kplib/12Circle/n00050/R01000/s000.kp  60 done !\n",
            "/content/kplib/12Circle/n00100/R01000/s000.kp  61 done !\n",
            "/content/kplib/12Circle/n00200/R01000/s000.kp  62 done !\n",
            "/content/kplib/12Circle/n00500/R01000/s000.kp  63 done !\n",
            "/content/kplib/12Circle/n01000/R01000/s000.kp  64 done !\n"
          ]
        }
      ]
    },
    {
      "cell_type": "code",
      "metadata": {
        "id": "VZ3OZ1NKK5ag",
        "colab": {
          "base_uri": "https://localhost:8080/"
        },
        "outputId": "f3ad9e4f-f5f1-4af4-a9ca-736e3b739583"
      },
      "source": [
        "import shutil\n",
        "\n",
        "\n",
        "temp = []\n",
        "\n",
        "for i in range(60,65):\n",
        "    temp.append(\"res\" + str(i) + \".txt\")\n",
        "source_dir = '/content'\n",
        "target_dir = '/content/res'\n",
        "\n",
        "try:\n",
        "    os.makedirs(target_dir) # create destination directory, if needed (similar to mkdir -p)\n",
        "except OSError:\n",
        "    pass\n",
        "\n",
        "for file_name in temp:\n",
        "    shutil.move(os.path.join(source_dir, file_name), target_dir)\n",
        "\n",
        "!zip -r '/content/re.zip' '/content/res'"
      ],
      "execution_count": null,
      "outputs": [
        {
          "output_type": "stream",
          "name": "stdout",
          "text": [
            "updating: content/res/ (stored 0%)\n",
            "updating: content/res/res9.txt (deflated 16%)\n",
            "updating: content/res/res5.txt (deflated 15%)\n",
            "updating: content/res/res12.txt (deflated 15%)\n",
            "updating: content/res/res3.txt (deflated 15%)\n",
            "updating: content/res/res17.txt (deflated 16%)\n",
            "updating: content/res/res11.txt (deflated 16%)\n",
            "updating: content/res/res1.txt (deflated 16%)\n",
            "updating: content/res/res14.txt (deflated 16%)\n",
            "updating: content/res/res2.txt (deflated 18%)\n",
            "updating: content/res/res15.txt (deflated 16%)\n",
            "updating: content/res/res6.txt (deflated 16%)\n",
            "updating: content/res/res0.txt (deflated 15%)\n",
            "updating: content/res/res10.txt (deflated 17%)\n",
            "updating: content/res/res16.txt (deflated 17%)\n",
            "updating: content/res/res13.txt (deflated 15%)\n",
            "updating: content/res/res8.txt (deflated 16%)\n",
            "updating: content/res/res18.txt (deflated 16%)\n",
            "updating: content/res/res7.txt (deflated 15%)\n",
            "updating: content/res/res4.txt (deflated 17%)\n",
            "updating: content/res/res19.txt (deflated 16%)\n",
            "updating: content/res/res31.txt (deflated 18%)\n",
            "updating: content/res/res34.txt (deflated 19%)\n",
            "updating: content/res/res28.txt (deflated 19%)\n",
            "updating: content/res/res30.txt (deflated 18%)\n",
            "updating: content/res/res22.txt (deflated 14%)\n",
            "updating: content/res/res20.txt (deflated 16%)\n",
            "updating: content/res/res35.txt (deflated 16%)\n",
            "updating: content/res/res24.txt (deflated 16%)\n",
            "updating: content/res/res23.txt (deflated 16%)\n",
            "updating: content/res/res26.txt (deflated 19%)\n",
            "updating: content/res/res25.txt (deflated 19%)\n",
            "updating: content/res/res33.txt (deflated 18%)\n",
            "updating: content/res/res21.txt (deflated 16%)\n",
            "updating: content/res/res29.txt (deflated 21%)\n",
            "updating: content/res/res27.txt (deflated 19%)\n",
            "updating: content/res/res32.txt (deflated 20%)\n",
            "updating: content/res/res37.txt (deflated 15%)\n",
            "updating: content/res/res39.txt (deflated 17%)\n",
            "updating: content/res/res38.txt (deflated 15%)\n",
            "updating: content/res/res42.txt (deflated 16%)\n",
            "updating: content/res/res40.txt (deflated 16%)\n",
            "updating: content/res/res48.txt (deflated 17%)\n",
            "updating: content/res/res43.txt (deflated 15%)\n",
            "updating: content/res/res49.txt (deflated 18%)\n",
            "updating: content/res/res44.txt (deflated 17%)\n",
            "updating: content/res/res46.txt (deflated 17%)\n",
            "updating: content/res/res41.txt (deflated 17%)\n",
            "updating: content/res/res47.txt (deflated 17%)\n",
            "updating: content/res/res45.txt (deflated 17%)\n",
            "updating: content/res/res58.txt (deflated 16%)\n",
            "updating: content/res/res54.txt (deflated 18%)\n",
            "updating: content/res/res55.txt (deflated 17%)\n",
            "updating: content/res/res56.txt (deflated 17%)\n",
            "updating: content/res/res53.txt (deflated 16%)\n",
            "updating: content/res/res59.txt (deflated 17%)\n",
            "updating: content/res/res57.txt (deflated 15%)\n",
            "updating: content/res/res50.txt (deflated 16%)\n",
            "updating: content/res/res52.txt (deflated 17%)\n",
            "updating: content/res/res51.txt (deflated 17%)\n",
            "  adding: content/res/res64.txt (deflated 17%)\n",
            "  adding: content/res/res60.txt (deflated 15%)\n",
            "  adding: content/res/res62.txt (deflated 14%)\n",
            "  adding: content/res/res61.txt (deflated 16%)\n",
            "  adding: content/res/res63.txt (deflated 15%)\n"
          ]
        }
      ]
    },
    {
      "cell_type": "markdown",
      "metadata": {
        "id": "oLBtJSYCDK26"
      },
      "source": [
        "###Test"
      ]
    }
  ]
}